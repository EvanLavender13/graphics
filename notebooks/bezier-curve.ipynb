{
 "metadata": {
  "language_info": {
   "codemirror_mode": {
    "name": "ipython",
    "version": 3
   },
   "file_extension": ".py",
   "mimetype": "text/x-python",
   "name": "python",
   "nbconvert_exporter": "python",
   "pygments_lexer": "ipython3",
   "version": "3.8.5-final"
  },
  "orig_nbformat": 2,
  "kernelspec": {
   "name": "python3",
   "display_name": "Python 3.8.5 64-bit ('cs536-computer-graphics': conda)",
   "metadata": {
    "interpreter": {
     "hash": "99c2f6acf0c7a0b5a9060d7e1519b4a60ab2b104957008cd3a8716c880115d3a"
    }
   }
  }
 },
 "nbformat": 4,
 "nbformat_minor": 2,
 "cells": [
  {
   "cell_type": "code",
   "execution_count": 1,
   "metadata": {},
   "outputs": [],
   "source": [
    "%load_ext autoreload\n",
    "%autoreload 2"
   ]
  },
  {
   "cell_type": "code",
   "execution_count": 2,
   "metadata": {},
   "outputs": [],
   "source": [
    "import os\n",
    "import sys\n",
    "\n",
    "module_path = os.path.abspath(os.path.join('..'))\n",
    "if module_path not in sys.path:\n",
    "    sys.path.append(module_path)"
   ]
  },
  {
   "cell_type": "code",
   "execution_count": 3,
   "metadata": {},
   "outputs": [
    {
     "output_type": "stream",
     "name": "stdout",
     "text": [
      "import success\n"
     ]
    }
   ],
   "source": [
    "import numpy as np\n",
    "import bezier_curve as bz\n",
    "import display as d\n",
    "\n",
    "print(\"import success\")"
   ]
  },
  {
   "cell_type": "code",
   "execution_count": 4,
   "metadata": {},
   "outputs": [],
   "source": [
    "control_points = np.array([\n",
    "    [0, 0],\n",
    "    [19, 19]\n",
    "], dtype=int)"
   ]
  },
  {
   "cell_type": "code",
   "execution_count": 5,
   "metadata": {},
   "outputs": [
    {
     "output_type": "stream",
     "name": "stdout",
     "text": [
      "|                                                          O |\n|                                                            |\n|                                                            |\n|                                                            |\n|                                                            |\n|                                                            |\n|                                                            |\n|                                                            |\n|                                                            |\n|                                                            |\n|                                                            |\n|                                                            |\n|                                                            |\n|                                                            |\n|                                                            |\n|                                                            |\n|                                                            |\n|                                                            |\n|                                                            |\n| O                                                          |\n"
     ]
    }
   ],
   "source": [
    "import graphics as g\n",
    "\n",
    "screen = g.create_screen((20, 20))\n",
    "\n",
    "g.draw_points_p(screen, control_points)\n",
    "g.print_screen(screen)"
   ]
  },
  {
   "cell_type": "code",
   "execution_count": 6,
   "metadata": {},
   "outputs": [],
   "source": [
    "# fig = d.create_figure()\n",
    "\n",
    "# d.add_control_points(fig, control_points)\n",
    "\n",
    "# fig.update_layout(title=\"Control Points\")\n",
    "# fig.show(\"png\")"
   ]
  },
  {
   "cell_type": "code",
   "execution_count": 7,
   "metadata": {},
   "outputs": [
    {
     "output_type": "stream",
     "name": "stdout",
     "text": [
      "curve (21, 2)\n"
     ]
    }
   ],
   "source": [
    "n_segments = 20\n",
    "curve = bz.get_curve(n_segments, control_points)\n",
    "curve = np.rint(curve).astype(int)\n",
    "print(\"curve\", curve.shape)"
   ]
  },
  {
   "cell_type": "code",
   "execution_count": 8,
   "metadata": {},
   "outputs": [
    {
     "output_type": "stream",
     "name": "stdout",
     "text": [
      "|                                                          O |\n|                                                       .    |\n|                                                    .       |\n|                                                 .          |\n|                                              .             |\n|                                           .                |\n|                                        .                   |\n|                                     .                      |\n|                                  .                         |\n|                               .                            |\n|                            .                               |\n|                         .                                  |\n|                      .                                     |\n|                   .                                        |\n|                .                                           |\n|             .                                              |\n|          .                                                 |\n|       .                                                    |\n|    .                                                       |\n| O                                                          |\n"
     ]
    }
   ],
   "source": [
    "screen = g.clear_screen(screen)\n",
    "g.draw_points_xy(screen, curve)\n",
    "g.draw_points_p(screen, control_points)\n",
    "g.print_screen(screen)"
   ]
  },
  {
   "cell_type": "code",
   "execution_count": 9,
   "metadata": {},
   "outputs": [],
   "source": [
    "# d.add_curve(fig, curve)\n",
    "\n",
    "# fig.update_layout(title=\"Linear Interpolation\")\n",
    "# fig.show(\"png\")"
   ]
  },
  {
   "cell_type": "code",
   "execution_count": 10,
   "metadata": {},
   "outputs": [],
   "source": [
    "control_points = np.array([\n",
    "    [0, 19],\n",
    "    [0, 0],\n",
    "    [19, 0]\n",
    "], dtype=int)"
   ]
  },
  {
   "cell_type": "code",
   "execution_count": 11,
   "metadata": {},
   "outputs": [
    {
     "output_type": "stream",
     "name": "stdout",
     "text": [
      "| O                                                          |\n|                                                            |\n|                                                            |\n|                                                            |\n|                                                            |\n|                                                            |\n|                                                            |\n|                                                            |\n|                                                            |\n|                                                            |\n|                                                            |\n|                                                            |\n|                                                            |\n|                                                            |\n|                                                            |\n|                                                            |\n|                                                            |\n|                                                            |\n|                                                            |\n| O                                                        O |\n"
     ]
    }
   ],
   "source": [
    "screen = g.clear_screen(screen)\n",
    "#g.draw_points_xy(screen, curve)\n",
    "g.draw_points_p(screen, control_points)\n",
    "g.print_screen(screen)"
   ]
  },
  {
   "cell_type": "code",
   "execution_count": 12,
   "metadata": {},
   "outputs": [],
   "source": [
    "# fig.data = []\n",
    "\n",
    "# d.add_control_points(fig, control_points)\n",
    "\n",
    "# fig.update_layout(title=\"Control Points\")\n",
    "# fig.show(\"png\")"
   ]
  },
  {
   "cell_type": "code",
   "execution_count": 13,
   "metadata": {},
   "outputs": [
    {
     "output_type": "stream",
     "name": "stdout",
     "text": [
      "curve (21, 2)\n"
     ]
    }
   ],
   "source": [
    "n_segments = 20\n",
    "curve = bz.get_curve(n_segments, control_points)\n",
    "curve = np.rint(curve).astype(int)\n",
    "print(\"curve\", curve.shape)"
   ]
  },
  {
   "cell_type": "code",
   "execution_count": 14,
   "metadata": {},
   "outputs": [
    {
     "output_type": "stream",
     "name": "stdout",
     "text": [
      "| O                                                          |\n|                                                            |\n| .                                                          |\n|                                                            |\n| .                                                          |\n| .                                                          |\n|                                                            |\n|    .                                                       |\n|    .                                                       |\n|                                                            |\n|       .                                                    |\n|       .                                                    |\n|          .                                                 |\n|             .                                              |\n|                .                                           |\n|                   .                                        |\n|                      .                                     |\n|                         .  .                               |\n|                                  .  .                      |\n| O                                         .  .     .     O |\n"
     ]
    }
   ],
   "source": [
    "screen = g.clear_screen(screen)\n",
    "g.draw_points_xy(screen, curve)\n",
    "g.draw_points_p(screen, control_points)\n",
    "g.print_screen(screen)"
   ]
  },
  {
   "cell_type": "code",
   "execution_count": 15,
   "metadata": {},
   "outputs": [],
   "source": [
    "# d.add_curve(fig, curve)\n",
    "\n",
    "# fig.update_layout(title=\"Quadratic Bezier Curve\")\n",
    "# fig.show(\"png\")"
   ]
  },
  {
   "cell_type": "code",
   "execution_count": 16,
   "metadata": {},
   "outputs": [],
   "source": [
    "# fig.data = []\n",
    "\n",
    "# def plot_quadratic(figure, n_segments, control_points):  \n",
    "#     t_space = np.linspace(0, 1, n_segments + 1)\n",
    "#     for i, dt in enumerate(t_space):\n",
    "#         p0 = bz.linear(*control_points[0:2], dt)\n",
    "#         p1 = bz.linear(*control_points[1:3], dt)\n",
    "#         d.add_line(figure, p0, p1, i)\n",
    "\n",
    "# plot_quadratic(fig, n_segments, control_points)\n",
    "# fig.update_traces(connectgaps=False)\n",
    "# fig.update_layout(title=\"Linear Interpolations\")\n",
    "# fig.show(\"png\")"
   ]
  },
  {
   "cell_type": "code",
   "execution_count": 17,
   "metadata": {},
   "outputs": [],
   "source": [
    "control_points = np.array([\n",
    "    [0, 0],\n",
    "    [0.5, 0],\n",
    "    [0.5, 1],\n",
    "    [1, 1]\n",
    "], dtype=float)"
   ]
  },
  {
   "cell_type": "code",
   "execution_count": 18,
   "metadata": {},
   "outputs": [],
   "source": [
    "# fig.data = []\n",
    "\n",
    "# d.add_control_points(fig, control_points)\n",
    "\n",
    "# fig.update_layout(title=\"Control Points\")\n",
    "# fig.show(\"png\")"
   ]
  },
  {
   "source": [
    "n_segments = 10\n",
    "curve = bz.get_curve(n_segments, control_points)\n",
    "print(\"curve\", curve.shape)"
   ],
   "cell_type": "code",
   "metadata": {},
   "execution_count": 19,
   "outputs": [
    {
     "output_type": "stream",
     "name": "stdout",
     "text": [
      "curve (11, 2)\n"
     ]
    }
   ]
  },
  {
   "cell_type": "code",
   "execution_count": 20,
   "metadata": {},
   "outputs": [],
   "source": [
    "# d.add_curve(fig, curve)\n",
    "\n",
    "# fig.update_layout(title=\"Cubic Bezier Curve\")\n",
    "# fig.show(\"png\")"
   ]
  },
  {
   "cell_type": "code",
   "execution_count": 21,
   "metadata": {},
   "outputs": [],
   "source": [
    "# fig.data = []\n",
    "\n",
    "# def plot_cubic(figure, n_segments, control_points):\n",
    "#     t_space = np.linspace(0, 1, n_segments + 1)\n",
    "\n",
    "#     for i, dt in enumerate(t_space):\n",
    "#         p0 = bz.quadratic(*control_points[0:3], dt)\n",
    "#         p1 = bz.quadratic(*control_points[1:4], dt)\n",
    "#         d.add_line(fig, p0, p1, i)\n",
    "\n",
    "# plot_cubic(fig, n_segments, control_points)\n",
    "\n",
    "# fig.update_traces(connectgaps=False)\n",
    "# fig.update_layout(title=\"Linear Interpolations\")\n",
    "# fig.show(\"png\")"
   ]
  },
  {
   "cell_type": "code",
   "execution_count": 22,
   "metadata": {},
   "outputs": [],
   "source": [
    "# fig.data = []\n",
    "\n",
    "# plot_quadratic(fig, n_segments, control_points[0:3])\n",
    "# plot_quadratic(fig, n_segments, control_points[1:4])\n",
    "\n",
    "# fig.update_traces(connectgaps=False)\n",
    "# fig.update_layout(title=\"Linear Interpolations\")\n",
    "# fig.show(\"png\")"
   ]
  },
  {
   "cell_type": "code",
   "execution_count": 23,
   "metadata": {},
   "outputs": [],
   "source": [
    "control_points = np.array([\n",
    "    [0, 0],\n",
    "    [0, 1],\n",
    "    [0.5, 1],\n",
    "    [0.5, 0],\n",
    "    [1, 0],\n",
    "    [1, 1]\n",
    "], dtype=float)"
   ]
  },
  {
   "cell_type": "code",
   "execution_count": 24,
   "metadata": {},
   "outputs": [],
   "source": [
    "# fig.data = []\n",
    "\n",
    "# d.add_control_points(fig, control_points)\n",
    "\n",
    "# fig.update_layout(title=\"Control Points\")\n",
    "# fig.show(\"png\")"
   ]
  },
  {
   "cell_type": "code",
   "execution_count": 25,
   "metadata": {},
   "outputs": [
    {
     "output_type": "stream",
     "name": "stdout",
     "text": [
      "curve (26, 2)\n"
     ]
    }
   ],
   "source": [
    "n_segments = 25\n",
    "curve = bz.get_curve(n_segments, control_points)\n",
    "print(\"curve\", curve.shape)"
   ]
  },
  {
   "cell_type": "code",
   "execution_count": 26,
   "metadata": {},
   "outputs": [],
   "source": [
    "# d.add_curve(fig, curve)\n",
    "\n",
    "# fig.update_layout(title=\"Bezier Curve\")\n",
    "# fig.show(\"png\")"
   ]
  }
 ]
}
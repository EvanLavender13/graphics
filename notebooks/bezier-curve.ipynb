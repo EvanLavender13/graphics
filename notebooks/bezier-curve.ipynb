{
 "metadata": {
  "language_info": {
   "codemirror_mode": {
    "name": "ipython",
    "version": 3
   },
   "file_extension": ".py",
   "mimetype": "text/x-python",
   "name": "python",
   "nbconvert_exporter": "python",
   "pygments_lexer": "ipython3",
   "version": "3.8.5-final"
  },
  "orig_nbformat": 2,
  "kernelspec": {
   "name": "python3",
   "display_name": "Python 3.8.5 64-bit ('cs536-computer-graphics': conda)",
   "metadata": {
    "interpreter": {
     "hash": "99c2f6acf0c7a0b5a9060d7e1519b4a60ab2b104957008cd3a8716c880115d3a"
    }
   }
  }
 },
 "nbformat": 4,
 "nbformat_minor": 2,
 "cells": [
  {
   "cell_type": "code",
   "execution_count": 400,
   "metadata": {},
   "outputs": [
    {
     "output_type": "stream",
     "name": "stdout",
     "text": [
      "The autoreload extension is already loaded. To reload it, use:\n  %reload_ext autoreload\n"
     ]
    }
   ],
   "source": [
    "%load_ext autoreload\n",
    "%autoreload 2"
   ]
  },
  {
   "cell_type": "code",
   "execution_count": 401,
   "metadata": {},
   "outputs": [],
   "source": [
    "import os\n",
    "import sys\n",
    "\n",
    "module_path = os.path.abspath(os.path.join('..'))\n",
    "if module_path not in sys.path:\n",
    "    sys.path.append(module_path)"
   ]
  },
  {
   "cell_type": "code",
   "execution_count": 402,
   "metadata": {},
   "outputs": [
    {
     "output_type": "stream",
     "name": "stdout",
     "text": [
      "import success\n"
     ]
    }
   ],
   "source": [
    "import numpy as np\n",
    "import bezier_curve as bz\n",
    "import display as d\n",
    "\n",
    "print(\"import success\")"
   ]
  },
  {
   "cell_type": "code",
   "execution_count": 403,
   "metadata": {},
   "outputs": [],
   "source": [
    "control_points = np.array([\n",
    "    [0, 0],\n",
    "    [19, 19]\n",
    "], dtype=int)"
   ]
  },
  {
   "cell_type": "code",
   "execution_count": 404,
   "metadata": {},
   "outputs": [
    {
     "output_type": "stream",
     "name": "stdout",
     "text": [
      "|                                                          O |\n",
      "|                                                            |\n",
      "|                                                            |\n",
      "|                                                            |\n",
      "|                                                            |\n",
      "|                                                            |\n",
      "|                                                            |\n",
      "|                                                            |\n",
      "|                                                            |\n",
      "|                                                            |\n",
      "|                                                            |\n",
      "|                                                            |\n",
      "|                                                            |\n",
      "|                                                            |\n",
      "|                                                            |\n",
      "|                                                            |\n",
      "|                                                            |\n",
      "|                                                            |\n",
      "|                                                            |\n",
      "| O                                                          |\n"
     ]
    }
   ],
   "source": [
    "import graphics as g\n",
    "\n",
    "screen = g.create_screen((20, 20))\n",
    "\n",
    "g.draw_points_p(screen, control_points)\n",
    "g.print_screen(screen)"
   ]
  },
  {
   "cell_type": "code",
   "execution_count": 405,
   "metadata": {},
   "outputs": [],
   "source": [
    "# fig = d.create_figure()\n",
    "\n",
    "# d.add_control_points(fig, control_points)\n",
    "\n",
    "# fig.update_layout(title=\"Control Points\")\n",
    "# fig.show(\"png\")"
   ]
  },
  {
   "cell_type": "code",
   "execution_count": 406,
   "metadata": {},
   "outputs": [
    {
     "output_type": "stream",
     "name": "stdout",
     "text": [
      "curve (21, 2)\n"
     ]
    }
   ],
   "source": [
    "n_segments = 20\n",
    "curve = bz.get_curve(n_segments, control_points)\n",
    "curve = np.rint(curve).astype(int)\n",
    "print(\"curve\", curve.shape)"
   ]
  },
  {
   "cell_type": "code",
   "execution_count": 407,
   "metadata": {},
   "outputs": [
    {
     "output_type": "stream",
     "name": "stdout",
     "text": [
      "|                                                          O |\n|                                                       .    |\n|                                                    .       |\n|                                                 .          |\n|                                              .             |\n|                                           .                |\n|                                        .                   |\n|                                     .                      |\n|                                  .                         |\n|                               .                            |\n|                            .                               |\n|                         .                                  |\n|                      .                                     |\n|                   .                                        |\n|                .                                           |\n|             .                                              |\n|          .                                                 |\n|       .                                                    |\n|    .                                                       |\n| O                                                          |\n"
     ]
    }
   ],
   "source": [
    "screen = g.clear_screen(screen)\n",
    "g.draw_points_xy(screen, curve)\n",
    "g.draw_points_p(screen, control_points)\n",
    "g.print_screen(screen)"
   ]
  },
  {
   "cell_type": "code",
   "execution_count": 408,
   "metadata": {},
   "outputs": [],
   "source": [
    "# d.add_curve(fig, curve)\n",
    "\n",
    "# fig.update_layout(title=\"Linear Interpolation\")\n",
    "# fig.show(\"png\")"
   ]
  },
  {
   "cell_type": "code",
   "execution_count": 409,
   "metadata": {},
   "outputs": [],
   "source": [
    "control_points = np.array([\n",
    "    [0, 19],\n",
    "    [0, 0],\n",
    "    [19, 0]\n",
    "], dtype=int)"
   ]
  },
  {
   "cell_type": "code",
   "execution_count": 410,
   "metadata": {},
   "outputs": [
    {
     "output_type": "stream",
     "name": "stdout",
     "text": [
      "| O                                                          |\n|                                                            |\n|                                                            |\n|                                                            |\n|                                                            |\n|                                                            |\n|                                                            |\n|                                                            |\n|                                                            |\n|                                                            |\n|                                                            |\n|                                                            |\n|                                                            |\n|                                                            |\n|                                                            |\n|                                                            |\n|                                                            |\n|                                                            |\n|                                                            |\n| O                                                        O |\n"
     ]
    }
   ],
   "source": [
    "screen = g.clear_screen(screen)\n",
    "#g.draw_points_xy(screen, curve)\n",
    "g.draw_points_p(screen, control_points)\n",
    "g.print_screen(screen)"
   ]
  },
  {
   "cell_type": "code",
   "execution_count": 411,
   "metadata": {},
   "outputs": [],
   "source": [
    "# fig.data = []\n",
    "\n",
    "# d.add_control_points(fig, control_points)\n",
    "\n",
    "# fig.update_layout(title=\"Control Points\")\n",
    "# fig.show(\"png\")"
   ]
  },
  {
   "cell_type": "code",
   "execution_count": 412,
   "metadata": {},
   "outputs": [
    {
     "output_type": "stream",
     "name": "stdout",
     "text": [
      "curve (21, 2)\n"
     ]
    }
   ],
   "source": [
    "n_segments = 20\n",
    "curve = bz.get_curve(n_segments, control_points)\n",
    "curve = np.rint(curve).astype(int)\n",
    "print(\"curve\", curve.shape)"
   ]
  },
  {
   "cell_type": "code",
   "execution_count": 413,
   "metadata": {},
   "outputs": [
    {
     "output_type": "error",
     "ename": "IndexError",
     "evalue": "only integers, slices (`:`), ellipsis (`...`), numpy.newaxis (`None`) and integer or boolean arrays are valid indices",
     "traceback": [
      "\u001b[0;31m---------------------------------------------------------------------------\u001b[0m",
      "\u001b[0;31mIndexError\u001b[0m                                Traceback (most recent call last)",
      "\u001b[0;32m<ipython-input-413-22d3abaf7ca6>\u001b[0m in \u001b[0;36m<module>\u001b[0;34m\u001b[0m\n\u001b[1;32m      1\u001b[0m \u001b[0mscreen\u001b[0m \u001b[0;34m=\u001b[0m \u001b[0mg\u001b[0m\u001b[0;34m.\u001b[0m\u001b[0mclear_screen\u001b[0m\u001b[0;34m(\u001b[0m\u001b[0mscreen\u001b[0m\u001b[0;34m)\u001b[0m\u001b[0;34m\u001b[0m\u001b[0;34m\u001b[0m\u001b[0m\n\u001b[0;32m----> 2\u001b[0;31m \u001b[0mg\u001b[0m\u001b[0;34m.\u001b[0m\u001b[0mdraw_points_xy\u001b[0m\u001b[0;34m(\u001b[0m\u001b[0mscreen\u001b[0m\u001b[0;34m,\u001b[0m \u001b[0mcurve\u001b[0m\u001b[0;34m)\u001b[0m\u001b[0;34m\u001b[0m\u001b[0;34m\u001b[0m\u001b[0m\n\u001b[0m\u001b[1;32m      3\u001b[0m \u001b[0mg\u001b[0m\u001b[0;34m.\u001b[0m\u001b[0mdraw_points_p\u001b[0m\u001b[0;34m(\u001b[0m\u001b[0mscreen\u001b[0m\u001b[0;34m,\u001b[0m \u001b[0mcontrol_points\u001b[0m\u001b[0;34m)\u001b[0m\u001b[0;34m\u001b[0m\u001b[0;34m\u001b[0m\u001b[0m\n\u001b[1;32m      4\u001b[0m \u001b[0mg\u001b[0m\u001b[0;34m.\u001b[0m\u001b[0mprint_screen\u001b[0m\u001b[0;34m(\u001b[0m\u001b[0mscreen\u001b[0m\u001b[0;34m)\u001b[0m\u001b[0;34m\u001b[0m\u001b[0;34m\u001b[0m\u001b[0m\n",
      "\u001b[0;32m~/development/repositories/graphics/graphics.py\u001b[0m in \u001b[0;36mdraw_points_xy\u001b[0;34m(screen, points, value)\u001b[0m\n\u001b[1;32m     60\u001b[0m \u001b[0;32mdef\u001b[0m \u001b[0mdraw_points_xy\u001b[0m\u001b[0;34m(\u001b[0m\u001b[0mscreen\u001b[0m\u001b[0;34m,\u001b[0m \u001b[0mpoints\u001b[0m\u001b[0;34m,\u001b[0m \u001b[0mvalue\u001b[0m\u001b[0;34m=\u001b[0m\u001b[0;36m1\u001b[0m\u001b[0;34m)\u001b[0m\u001b[0;34m:\u001b[0m\u001b[0;34m\u001b[0m\u001b[0;34m\u001b[0m\u001b[0m\n\u001b[1;32m     61\u001b[0m     \u001b[0;32mfor\u001b[0m \u001b[0mx\u001b[0m\u001b[0;34m,\u001b[0m \u001b[0my\u001b[0m \u001b[0;32min\u001b[0m \u001b[0mpoints\u001b[0m\u001b[0;34m:\u001b[0m\u001b[0;34m\u001b[0m\u001b[0;34m\u001b[0m\u001b[0m\n\u001b[0;32m---> 62\u001b[0;31m         \u001b[0mdraw_point_xy\u001b[0m\u001b[0;34m(\u001b[0m\u001b[0mscreen\u001b[0m\u001b[0;34m,\u001b[0m \u001b[0mx\u001b[0m\u001b[0;34m,\u001b[0m \u001b[0my\u001b[0m\u001b[0;34m,\u001b[0m \u001b[0mvalue\u001b[0m\u001b[0;34m=\u001b[0m\u001b[0mvalue\u001b[0m\u001b[0;34m)\u001b[0m\u001b[0;34m\u001b[0m\u001b[0;34m\u001b[0m\u001b[0m\n\u001b[0m\u001b[1;32m     63\u001b[0m \u001b[0;34m\u001b[0m\u001b[0m\n\u001b[1;32m     64\u001b[0m \u001b[0;34m\u001b[0m\u001b[0m\n",
      "\u001b[0;32m~/development/repositories/graphics/graphics.py\u001b[0m in \u001b[0;36mdraw_point_xy\u001b[0;34m(screen, x, y, value)\u001b[0m\n\u001b[1;32m     67\u001b[0m     \u001b[0mcol\u001b[0m \u001b[0;34m=\u001b[0m \u001b[0mx\u001b[0m\u001b[0;34m\u001b[0m\u001b[0;34m\u001b[0m\u001b[0m\n\u001b[1;32m     68\u001b[0m \u001b[0;34m\u001b[0m\u001b[0m\n\u001b[0;32m---> 69\u001b[0;31m     \u001b[0mscreen\u001b[0m\u001b[0;34m[\u001b[0m\u001b[0mrow\u001b[0m\u001b[0;34m,\u001b[0m \u001b[0mcol\u001b[0m\u001b[0;34m]\u001b[0m \u001b[0;34m=\u001b[0m \u001b[0mvalue\u001b[0m\u001b[0;34m\u001b[0m\u001b[0;34m\u001b[0m\u001b[0m\n\u001b[0m\u001b[1;32m     70\u001b[0m \u001b[0;34m\u001b[0m\u001b[0m\n\u001b[1;32m     71\u001b[0m \u001b[0;34m\u001b[0m\u001b[0m\n",
      "\u001b[0;31mIndexError\u001b[0m: only integers, slices (`:`), ellipsis (`...`), numpy.newaxis (`None`) and integer or boolean arrays are valid indices"
     ]
    }
   ],
   "source": [
    "screen = g.clear_screen(screen)\n",
    "g.draw_points_xy(screen, curve)\n",
    "g.draw_points_p(screen, control_points)\n",
    "g.print_screen(screen)"
   ]
  },
  {
   "cell_type": "code",
   "execution_count": 388,
   "metadata": {},
   "outputs": [],
   "source": [
    "# d.add_curve(fig, curve)\n",
    "\n",
    "# fig.update_layout(title=\"Quadratic Bezier Curve\")\n",
    "# fig.show(\"png\")"
   ]
  },
  {
   "cell_type": "code",
   "execution_count": 389,
   "metadata": {},
   "outputs": [],
   "source": [
    "# fig.data = []\n",
    "\n",
    "# def plot_quadratic(figure, n_segments, control_points):  \n",
    "#     t_space = np.linspace(0, 1, n_segments + 1)\n",
    "#     for i, dt in enumerate(t_space):\n",
    "#         p0 = bz.linear(*control_points[0:2], dt)\n",
    "#         p1 = bz.linear(*control_points[1:3], dt)\n",
    "#         d.add_line(figure, p0, p1, i)\n",
    "\n",
    "# plot_quadratic(fig, n_segments, control_points)\n",
    "# fig.update_traces(connectgaps=False)\n",
    "# fig.update_layout(title=\"Linear Interpolations\")\n",
    "# fig.show(\"png\")"
   ]
  },
  {
   "cell_type": "code",
   "execution_count": 390,
   "metadata": {},
   "outputs": [],
   "source": [
    "control_points = np.array([\n",
    "    [0, 0],\n",
    "    [0.5, 0],\n",
    "    [0.5, 1],\n",
    "    [1, 1]\n",
    "], dtype=float)"
   ]
  },
  {
   "cell_type": "code",
   "execution_count": 391,
   "metadata": {},
   "outputs": [],
   "source": [
    "# fig.data = []\n",
    "\n",
    "# d.add_control_points(fig, control_points)\n",
    "\n",
    "# fig.update_layout(title=\"Control Points\")\n",
    "# fig.show(\"png\")"
   ]
  },
  {
   "source": [
    "n_segments = 10\n",
    "curve = bz.get_curve(n_segments, control_points)\n",
    "print(\"curve\", curve.shape)"
   ],
   "cell_type": "code",
   "metadata": {},
   "execution_count": 392,
   "outputs": [
    {
     "output_type": "stream",
     "name": "stdout",
     "text": [
      "curve (11, 2)\n"
     ]
    }
   ]
  },
  {
   "cell_type": "code",
   "execution_count": 393,
   "metadata": {},
   "outputs": [],
   "source": [
    "# d.add_curve(fig, curve)\n",
    "\n",
    "# fig.update_layout(title=\"Cubic Bezier Curve\")\n",
    "# fig.show(\"png\")"
   ]
  },
  {
   "cell_type": "code",
   "execution_count": 394,
   "metadata": {},
   "outputs": [],
   "source": [
    "# fig.data = []\n",
    "\n",
    "# def plot_cubic(figure, n_segments, control_points):\n",
    "#     t_space = np.linspace(0, 1, n_segments + 1)\n",
    "\n",
    "#     for i, dt in enumerate(t_space):\n",
    "#         p0 = bz.quadratic(*control_points[0:3], dt)\n",
    "#         p1 = bz.quadratic(*control_points[1:4], dt)\n",
    "#         d.add_line(fig, p0, p1, i)\n",
    "\n",
    "# plot_cubic(fig, n_segments, control_points)\n",
    "\n",
    "# fig.update_traces(connectgaps=False)\n",
    "# fig.update_layout(title=\"Linear Interpolations\")\n",
    "# fig.show(\"png\")"
   ]
  },
  {
   "cell_type": "code",
   "execution_count": 395,
   "metadata": {},
   "outputs": [],
   "source": [
    "# fig.data = []\n",
    "\n",
    "# plot_quadratic(fig, n_segments, control_points[0:3])\n",
    "# plot_quadratic(fig, n_segments, control_points[1:4])\n",
    "\n",
    "# fig.update_traces(connectgaps=False)\n",
    "# fig.update_layout(title=\"Linear Interpolations\")\n",
    "# fig.show(\"png\")"
   ]
  },
  {
   "cell_type": "code",
   "execution_count": 396,
   "metadata": {},
   "outputs": [],
   "source": [
    "control_points = np.array([\n",
    "    [0, 0],\n",
    "    [0, 1],\n",
    "    [0.5, 1],\n",
    "    [0.5, 0],\n",
    "    [1, 0],\n",
    "    [1, 1]\n",
    "], dtype=float)"
   ]
  },
  {
   "cell_type": "code",
   "execution_count": 397,
   "metadata": {},
   "outputs": [],
   "source": [
    "# fig.data = []\n",
    "\n",
    "# d.add_control_points(fig, control_points)\n",
    "\n",
    "# fig.update_layout(title=\"Control Points\")\n",
    "# fig.show(\"png\")"
   ]
  },
  {
   "cell_type": "code",
   "execution_count": 398,
   "metadata": {},
   "outputs": [
    {
     "output_type": "stream",
     "name": "stdout",
     "text": [
      "curve (26, 2)\n"
     ]
    }
   ],
   "source": [
    "n_segments = 25\n",
    "curve = bz.get_curve(n_segments, control_points)\n",
    "print(\"curve\", curve.shape)"
   ]
  },
  {
   "cell_type": "code",
   "execution_count": 399,
   "metadata": {},
   "outputs": [],
   "source": [
    "# d.add_curve(fig, curve)\n",
    "\n",
    "# fig.update_layout(title=\"Bezier Curve\")\n",
    "# fig.show(\"png\")"
   ]
  }
 ]
}